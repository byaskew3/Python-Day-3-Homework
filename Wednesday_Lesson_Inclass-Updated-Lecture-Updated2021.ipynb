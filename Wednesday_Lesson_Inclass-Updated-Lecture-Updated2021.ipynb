{
 "cells": [
  {
   "cell_type": "markdown",
   "source": [
    "# Data Collections 2 (Dictionaries, Sets) and Importing Modules"
   ],
   "metadata": {}
  },
  {
   "cell_type": "markdown",
   "source": [
    "## Tasks Today:\n",
    "\n",
    "1) Dictionary <br>\n",
    " &nbsp;&nbsp;&nbsp;&nbsp; a) Declaring (key, value) <br>\n",
    " &nbsp;&nbsp;&nbsp;&nbsp; b) Accessing Values <br>\n",
    " &nbsp;&nbsp;&nbsp;&nbsp; ------ Exercise #1 - Print the eye color of each person in a double nested dict <br>\n",
    " &nbsp;&nbsp;&nbsp;&nbsp; c) Adding New Pairs <br>\n",
    " &nbsp;&nbsp;&nbsp;&nbsp; d) Modifying Values <br>\n",
    " &nbsp;&nbsp;&nbsp;&nbsp; e) Removing Key, Value Pairs <br>\n",
    " &nbsp;&nbsp;&nbsp;&nbsp; f) Looping a Dictionary <br>\n",
    " &nbsp;&nbsp;&nbsp;&nbsp; g) Looping Only Keys <br>\n",
    " &nbsp;&nbsp;&nbsp;&nbsp; h) Looping Only Values <br>\n",
    " &nbsp;&nbsp;&nbsp;&nbsp; ------ Exercise #2 - Create a Function that Prints All Key Value Pairs within a print .format()  <br>\n",
    " &nbsp;&nbsp;&nbsp;&nbsp; i) sorted() <br>\n",
    " &nbsp;&nbsp;&nbsp;&nbsp; j) Lists with Dictionaries <br>\n",
    " &nbsp;&nbsp;&nbsp;&nbsp; k) Dictionaries with Lists <br>\n",
    " &nbsp;&nbsp;&nbsp;&nbsp; l) Dictionaries with Dictionaries <br>\n",
    " &nbsp;&nbsp;&nbsp;&nbsp; ------ Exercise #3 - Write a Function that asks someone's name and address, and then stores that into a dictionary, which prints all names and addresses after they're done putting information in...  <br>\n",
    "2) Dictionaries vs. Lists (over time)<br>\n",
    "3) Set <br>\n",
    " &nbsp;&nbsp;&nbsp;&nbsp; a) Declaring <br>\n",
    " &nbsp;&nbsp;&nbsp;&nbsp; b) .add() <br>\n",
    " &nbsp;&nbsp;&nbsp;&nbsp; c) .remove() <br>\n",
    " &nbsp;&nbsp;&nbsp;&nbsp; d) .union() <br>\n",
    " &nbsp;&nbsp;&nbsp;&nbsp; e) .intersection() <br>\n",
    " &nbsp;&nbsp;&nbsp;&nbsp; f) .difference() <br>\n",
    " &nbsp;&nbsp;&nbsp;&nbsp; g) Frozen Set <br>\n",
    "4) Modules <br>\n",
    " &nbsp;&nbsp;&nbsp;&nbsp; a) Importing Entire Modules <br>\n",
    " &nbsp;&nbsp;&nbsp;&nbsp; b) Importing Methods Only <br>\n",
    " &nbsp;&nbsp;&nbsp;&nbsp; c) Using the 'as' Keyword <br>\n",
    " &nbsp;&nbsp;&nbsp;&nbsp; d) Creating a Module <br>\n",
    "5) Exercises <br>\n",
    " &nbsp;&nbsp;&nbsp;&nbsp; a) Build a Shopping Cart <br>\n",
    " &nbsp;&nbsp;&nbsp;&nbsp; b) Create Your Own Module <br>"
   ],
   "metadata": {}
  },
  {
   "cell_type": "markdown",
   "source": [
    "## Dictionary <br>\n",
    "<p>A collection of data with 'key:value' pairs. Dictionaries are ordered as of Python 3.6</p>"
   ],
   "metadata": {}
  },
  {
   "cell_type": "markdown",
   "source": [
    "##### Declaring (key, value)"
   ],
   "metadata": {}
  },
  {
   "cell_type": "code",
   "execution_count": null,
   "source": [
    "# keys should be unique\r\n",
    "# can use numbers or strings as keys\r\n",
    "# Dictionaries are traditionally not ordered. Dictionaries are now pseudo-ordeered.\r\n",
    "# Dictionaries are iterable\r\n",
    "# Dictionaries are not indexed\r\n",
    "# Dictionaries are mutable(Can be changed)\r\n",
    "d_1 = {}\r\n",
    "\r\n",
    "# OR \r\n",
    "\r\n",
    "d_2 = dict()\r\n",
    "\r\n",
    "# OR \r\n",
    "\r\n",
    "d_3 = {\r\n",
    "    'dave': '255 Main Street',\r\n",
    "    'sean': '522 1st Street',\r\n",
    "    0: \"This is a value for the key of 0\"\r\n",
    "}"
   ],
   "outputs": [],
   "metadata": {}
  },
  {
   "cell_type": "markdown",
   "source": [
    "##### Accessing Values"
   ],
   "metadata": {}
  },
  {
   "cell_type": "code",
   "execution_count": null,
   "source": [
    "# dict[key]\r\n",
    "\r\n",
    "d_3['dave']\r\n",
    "\r\n",
    "d_3[0]\r\n",
    "\r\n",
    "animals = {\"fennec fox\": \"gary\", \"panda\": \"steve\", \"tiger\": \"todd\"}\r\n",
    "\r\n",
    "animals[\"fennec fox\"]\r\n",
    "\r\n",
    "# keys and values can be any data types\r\n"
   ],
   "outputs": [],
   "metadata": {}
  },
  {
   "cell_type": "markdown",
   "source": [
    "## In-Class Exercise #1 - Print a formatted statement from the dictionary below <br>\n",
    "<p>The output should be '2018 Chevrolet Silverado'</p>"
   ],
   "metadata": {}
  },
  {
   "cell_type": "code",
   "execution_count": null,
   "source": [
    "# use the dict below\r\n",
    "truck = {\r\n",
    "    'year': 2018,\r\n",
    "    'make': 'Chevrolet',\r\n",
    "    'model': 'Silverado'\r\n",
    "}\r\n",
    "\r\n",
    "f\"My favorite car is a {truck['year']} {truck['make']} {truck['model']}.\"\r\n"
   ],
   "outputs": [],
   "metadata": {}
  },
  {
   "cell_type": "markdown",
   "source": [
    "##### Adding New Pairs"
   ],
   "metadata": {}
  },
  {
   "cell_type": "code",
   "execution_count": null,
   "source": [
    "# dict[key] = value\r\n",
    "\r\n",
    "d_3['bob'] = '151 Main Street'\r\n",
    "\r\n",
    "d_3\r\n",
    "\r\n",
    "animals['fennec fox'] = 'dave'\r\n",
    "# be careful about spelling if you intended to modify an existing key -> you wont get an error for a mispelling"
   ],
   "outputs": [],
   "metadata": {}
  },
  {
   "cell_type": "markdown",
   "source": [
    "##### Modifying Values"
   ],
   "metadata": {}
  },
  {
   "cell_type": "code",
   "execution_count": null,
   "source": [
    "# dict[key] = value\r\n",
    "\r\n",
    "placeholder = d_3['bob']\r\n",
    "\r\n",
    "d_3['bob'] = placeholder + \" Chicago,IL\"\r\n",
    "#d_3['bob'] = d_3['bob'] + \" Chicago,IL\"\r\n",
    "\r\n",
    "d_3"
   ],
   "outputs": [],
   "metadata": {}
  },
  {
   "cell_type": "markdown",
   "source": [
    "##### Removing Key, Value Pairs"
   ],
   "metadata": {}
  },
  {
   "cell_type": "code",
   "execution_count": null,
   "source": [
    "# del dict[key]\r\n",
    "\r\n",
    "# fi you try to delete a key that doesn't exist, you get a key error\r\n",
    "\r\n",
    "print(animals)"
   ],
   "outputs": [],
   "metadata": {}
  },
  {
   "cell_type": "markdown",
   "source": [
    "##### Looping a Dictionary"
   ],
   "metadata": {}
  },
  {
   "cell_type": "code",
   "execution_count": null,
   "source": [
    "# .items()\r\n",
    "# returns a special dict_items type that can be easily converted to a list of tuples of the key, value pairs\r\n",
    "animals = {\"fennec fox\": \"gary\", \"panda\": \"steve\", \"tiger\": \"todd\"}\r\n",
    "print(list(animals.items()))\r\n",
    "    \r\n",
    "# A way to acess key and value pairs\r\n",
    "for key, value in animals.items():\r\n",
    "    print(f\"key: {key}, value: {value}\")"
   ],
   "outputs": [],
   "metadata": {}
  },
  {
   "cell_type": "markdown",
   "source": [
    "##### Looping Only Keys"
   ],
   "metadata": {}
  },
  {
   "cell_type": "code",
   "execution_count": null,
   "source": [
    "# .keys()\r\n",
    "# for i in d_3:\r\n",
    "#     print(i)\r\n",
    "\r\n",
    "# Always grabs just the key, not the value\r\n",
    "# Correct way to access keys inside of dictionary\r\n",
    "# When you write a for loop in a dict: loop it always loops through the keys\r\n",
    "for key in animals:\r\n",
    "    print(\"Current key\", key)\r\n",
    "    print(\"Current value\", animals[key])"
   ],
   "outputs": [],
   "metadata": {}
  },
  {
   "cell_type": "markdown",
   "source": [
    "##### Looping Only Values"
   ],
   "metadata": {}
  },
  {
   "cell_type": "code",
   "execution_count": null,
   "source": [
    "# .values()\r\n",
    "\r\n",
    "listlikedict = {0: 'first', 1: 'second', 2: 'third'}\r\n",
    "alist = ['first', 'second', 'third']\r\n",
    "\r\n",
    "print(alist[1])\r\n",
    "print(listlikedict[1])\r\n",
    "\r\n",
    "for value in listlikedict.values():\r\n",
    "    print(value)"
   ],
   "outputs": [],
   "metadata": {}
  },
  {
   "cell_type": "markdown",
   "source": [
    "## In-Class Exercise #2 - Create a Function that Prints All Key Value Pairs within a print .format() <br>\n",
    "<p><b>Output should be:</b><br>\n",
    "Max has blue eyes<br>\n",
    "Lilly has brown eyes<br>\n",
    "Barney has blue eyes<br>\n",
    "etc.\n",
    "</p>"
   ],
   "metadata": {}
  },
  {
   "cell_type": "code",
   "execution_count": null,
   "source": [
    "# use the dict below\r\n",
    "\r\n",
    "people = {\r\n",
    "    'Max': 'blue',\r\n",
    "    'Lilly': 'brown',\r\n",
    "    'Barney': 'blue',\r\n",
    "    'Larney': 'brown',\r\n",
    "    'Ted': 'purple'\r\n",
    "}\r\n",
    "\r\n",
    "\r\n",
    "def dictpeople(dict):\r\n",
    "    for key, value in dict.items():\r\n",
    "        print(f\"{key} has {value} eyes.\")\r\n",
    "\r\n",
    "dictpeople(people)"
   ],
   "outputs": [],
   "metadata": {}
  },
  {
   "cell_type": "markdown",
   "source": [
    "##### sorted()"
   ],
   "metadata": {}
  },
  {
   "cell_type": "code",
   "execution_count": null,
   "source": [
    "# sorts variables in order\r\n",
    "# sorted(dict.values()) or dict.keys() or dict.items()\r\n",
    "# the reason for this is that dictionary are unordered\r\n",
    "# if we're being specific, dictionaries are Pseusdo-Ordered\r\n",
    "    # they are insertion ordered - so they remember the order that k:v pairs were added\r\n",
    "\r\n",
    "\r\n",
    "print(sorted(people.items()))\r\n",
    "print(sorted(people.keys()))\r\n",
    "print(sorted(people)) # now this is the same as sorted(people.keys())\r\n",
    "print(sorted(people.values()))\r\n",
    "\r\n"
   ],
   "outputs": [],
   "metadata": {}
  },
  {
   "cell_type": "markdown",
   "source": [
    "##### List with Dictionaries"
   ],
   "metadata": {}
  },
  {
   "cell_type": "code",
   "execution_count": null,
   "source": [
    "names = [\"Dave\",\"Randy\",\"Greg\",{\"random_guy\":\"Robert\", \"random_girl\":\"Barbara\"}]\r\n",
    "# Barabara is in the random_girl key in the dictionary in index#3 of the names list\r\n",
    "\r\n",
    "print(names[3]['random_girl'])\r\n",
    "\r\n",
    "# Get all keys from nested dictionary in a list\r\n",
    "for keys in names[3].keys():\r\n",
    "    print(keys)"
   ],
   "outputs": [],
   "metadata": {}
  },
  {
   "cell_type": "markdown",
   "source": [
    "##### Dictionaries with Lists"
   ],
   "metadata": {}
  },
  {
   "cell_type": "code",
   "execution_count": null,
   "source": [
    "# be careful when using numbers as keys in dictionaries, don't confuse them with indexes\r\n",
    "random_data = {\r\n",
    "    'list1': [54,7,11],\r\n",
    "    \"2\":['smith', 'smithy']\r\n",
    "}\r\n",
    "\r\n",
    "for list_item in random_data['2']:\r\n",
    "    print(list_item)\r\n",
    "    \r\n",
    "print(random_data['2'][0])"
   ],
   "outputs": [],
   "metadata": {}
  },
  {
   "cell_type": "markdown",
   "source": [
    "##### Dictionaries with Dictionaries"
   ],
   "metadata": {}
  },
  {
   "cell_type": "code",
   "execution_count": null,
   "source": [
    "# to get values, must traverse through keys\r\n",
    "food_dict = {\r\n",
    "    \"ice_cream\":{\r\n",
    "        \"CHO\": 2.99,\r\n",
    "        \"VA\": 3.99,\r\n",
    "        \"Oreo\": 5.99\r\n",
    "    }\r\n",
    "}\r\n",
    "\r\n",
    "print(food_dict['ice_cream']['CHO'])"
   ],
   "outputs": [],
   "metadata": {}
  },
  {
   "cell_type": "markdown",
   "source": [
    "## Dictionaries vs. Lists (over time) Example of RUNTIME\n",
    "### When inputting values in a Dictionary vs List"
   ],
   "metadata": {}
  },
  {
   "cell_type": "code",
   "execution_count": null,
   "source": [
    "import time\r\n",
    "\r\n",
    "\r\n",
    "# generate fake dictionary\r\n",
    "d = {}\r\n",
    "\r\n",
    "for i in range(10000000):\r\n",
    "    d[i] = 'value'\r\n",
    "    \r\n",
    "\r\n",
    "# generate fake list\r\n",
    "big_list = [x for x in range(10000000)]"
   ],
   "outputs": [],
   "metadata": {}
  },
  {
   "cell_type": "code",
   "execution_count": null,
   "source": [
    "# tracking time for dictionary\r\n",
    "start_time = time.time()\r\n",
    "\r\n",
    "print(d[9999999])\r\n",
    "\r\n",
    "end_time = time.time() - start_time\r\n",
    "\r\n",
    "print('Elapsed time for dictionary: {}'.format(end_time))\r\n",
    "\r\n",
    "\r\n",
    "# tracking time for list\r\n",
    "start_time = time.time()\r\n",
    "\r\n",
    "for i in range(len(big_list)):\r\n",
    "    if i == 9999999:\r\n",
    "        print(i)\r\n",
    "\r\n",
    "end_time = time.time() - start_time\r\n",
    "\r\n",
    "print('Elapsed time for list: {}'.format(end_time))"
   ],
   "outputs": [],
   "metadata": {}
  },
  {
   "cell_type": "markdown",
   "source": [
    "## Exercise #3 - Write a Function that asks someone's name and address, and then stores that into a dictionary, and continues to do so until they choose to 'quit'. Once they quit, the program should print all names and addresses. <br>\n",
    "<p>\n",
    "<b>Proper steps:</b><br>\n",
    "step 1: write a function that takes in information and stores it in a dictionary<br>\n",
    "step 2: define an empty dictionary to work with<br>\n",
    "step 3: create our loop, which asks the user for information until they quit<br>\n",
    "step 4: ask for the information, and store it into variables<br>\n",
    "step 5: check if the user types quit<br>\n",
    "step 5a: print out all information<br>\n",
    "step 5b: break out of the loop<br>\n",
    "step 6: if they didn't quit, add the information to the dictionary<br>\n",
    "step 7: invoke the function by calling it\n",
    "</p>"
   ],
   "metadata": {}
  },
  {
   "cell_type": "code",
   "execution_count": null,
   "source": [
    "info_dict = {}\r\n",
    "def info():\r\n",
    "    while True:\r\n",
    "        name = input(\"What is the name?\")\r\n",
    "        if name == 'quit'.lower():\r\n",
    "            break\r\n",
    "        address = input(f\"What is {name.title()} address?\")\r\n",
    "        if address != 'quit'.lower():\r\n",
    "            info_dict[name] = address\r\n",
    "        else:\r\n",
    "            break\r\n",
    "    print(info_dict)\r\n",
    "    \r\n",
    "info()"
   ],
   "outputs": [],
   "metadata": {}
  },
  {
   "cell_type": "markdown",
   "source": [
    "## Set <br>\n",
    "<p>A Set is an unordered collection data type that is iterable (loop), mutable, and has no duplicate elements.<br>Major advantage is that it is highly optimized in checking if something is in the set, as opposed to checking if something is in a list.</p>"
   ],
   "metadata": {}
  },
  {
   "cell_type": "markdown",
   "source": [
    "##### Declaring"
   ],
   "metadata": {}
  },
  {
   "cell_type": "code",
   "execution_count": null,
   "source": [
    "# set() or {}\r\n",
    "# no order {3, 2, 1} outputs as {1, 2, 3}\r\n",
    "nums = {4,1,6,4}\r\n",
    "\r\n",
    "print(nums)"
   ],
   "outputs": [],
   "metadata": {}
  },
  {
   "cell_type": "markdown",
   "source": [
    "##### .add()"
   ],
   "metadata": {}
  },
  {
   "cell_type": "code",
   "execution_count": null,
   "source": [
    "# set.add()\r\n",
    "nums.add(56)\r\n",
    "\r\n",
    "print(nums)"
   ],
   "outputs": [],
   "metadata": {}
  },
  {
   "cell_type": "markdown",
   "source": [
    "##### .remove()"
   ],
   "metadata": {}
  },
  {
   "cell_type": "code",
   "execution_count": null,
   "source": [
    "# removes by value\r\n",
    "# set.remove()\r\n",
    "# nums.remove(56)\r\n",
    "\r\n",
    "nums.remove(56)\r\n",
    "\r\n",
    "print(nums)"
   ],
   "outputs": [],
   "metadata": {}
  },
  {
   "cell_type": "markdown",
   "source": [
    "##### .union() "
   ],
   "metadata": {}
  },
  {
   "cell_type": "code",
   "execution_count": null,
   "source": [
    "# Returns a union of two sets, can also use '|' or set.union(set)\r\n",
    "# joins all numbers, gets rid of duplicates\r\n",
    "s1 = {1,2,3,4}\r\n",
    "s2 = {3,4,5,6}\r\n",
    "\r\n",
    "s3 = s1.union(s2)\r\n",
    "\r\n",
    "# OR\r\n",
    "\r\n",
    "s4 = s1 | s2\r\n",
    "\r\n",
    "print(s3)\r\n",
    "print(s4)"
   ],
   "outputs": [],
   "metadata": {}
  },
  {
   "cell_type": "markdown",
   "source": [
    "##### .intersection()"
   ],
   "metadata": {}
  },
  {
   "cell_type": "code",
   "execution_count": null,
   "source": [
    "# Returns an intersection of two sets, can also use '&'\r\n",
    "# only takes similar elements from both sets\r\n",
    "s5 = s2 & s1\r\n",
    "\r\n",
    "s6 = s1.intersection(s2)\r\n",
    "\r\n",
    "print(s5)\r\n",
    "print(s6)\r\n"
   ],
   "outputs": [],
   "metadata": {}
  },
  {
   "cell_type": "markdown",
   "source": [
    "##### .difference()"
   ],
   "metadata": {}
  },
  {
   "cell_type": "code",
   "execution_count": null,
   "source": [
    "# Returns a set containing all the elements of invoking set that are not in the second set, can also use '-'\r\n",
    "# only takes values from the first set that are not in the second set\r\n",
    "# order matters\r\n",
    "s7 = s2 - s1\r\n",
    "\r\n",
    "# OR\r\n",
    "\r\n",
    "s8 = s1.difference(s2)\r\n",
    "\r\n",
    "print(s1)\r\n",
    "print(s2)\r\n",
    "print(s7)\r\n",
    "print(s8)\r\n"
   ],
   "outputs": [],
   "metadata": {}
  },
  {
   "cell_type": "markdown",
   "source": [
    "##### .clear()"
   ],
   "metadata": {}
  },
  {
   "cell_type": "code",
   "execution_count": null,
   "source": [
    "# Empties the whole set\r\n",
    "# set.clear()\r\n",
    "s8.clear()\r\n",
    "\r\n",
    "print(s8)"
   ],
   "outputs": [],
   "metadata": {}
  },
  {
   "cell_type": "markdown",
   "source": [
    "##### Frozenset <br>\n",
    "<p>Frozen sets are immutable objects that only support methods and operators that produce a result without affecting the frozen set or sets to which they are applied.</p><br><b>Unique & Immutable</b>"
   ],
   "metadata": {}
  },
  {
   "cell_type": "code",
   "execution_count": null,
   "source": [
    "# frozenset([])\r\n",
    "my_frozen_set = frozenset(s3)\r\n",
    "\r\n",
    "print(my_frozen_set)\r\n",
    "\r\n",
    "my_frozen_set.add(56)"
   ],
   "outputs": [],
   "metadata": {}
  },
  {
   "cell_type": "markdown",
   "source": [
    "## Modules"
   ],
   "metadata": {}
  },
  {
   "cell_type": "markdown",
   "source": [
    "##### Importing Entire Modules"
   ],
   "metadata": {}
  },
  {
   "cell_type": "code",
   "execution_count": null,
   "source": [
    "# import or from 'xxx' import *\r\n",
    "# import math\r\n",
    "import math\r\n",
    "\r\n",
    "print(math.pi)\r\n",
    "print(math.floor(math.pi))\r\n"
   ],
   "outputs": [],
   "metadata": {}
  },
  {
   "cell_type": "markdown",
   "source": [
    "##### Importing Methods Only"
   ],
   "metadata": {}
  },
  {
   "cell_type": "code",
   "execution_count": null,
   "source": [
    "# from 'xxx' import 'xxx'\r\n",
    "# from math import floor\r\n",
    "from math import floor,pi\r\n",
    "\r\n",
    "print(pi)\r\n",
    "print(floor(pi))\r\n",
    "\r\n"
   ],
   "outputs": [],
   "metadata": {}
  },
  {
   "cell_type": "markdown",
   "source": [
    "##### Using the 'as' Keyword"
   ],
   "metadata": {}
  },
  {
   "cell_type": "code",
   "execution_count": null,
   "source": [
    "# from 'xxx' import 'xxx' as 'xxx' or import 'xxx' as 'xxx'\r\n",
    "# from math import floor as f\r\n",
    "from math import floor as f, pi as p\r\n",
    "\r\n",
    "print(p)\r\n",
    "print(f(p))"
   ],
   "outputs": [],
   "metadata": {}
  },
  {
   "cell_type": "markdown",
   "source": [
    "##### Creating a Module"
   ],
   "metadata": {}
  },
  {
   "cell_type": "code",
   "execution_count": null,
   "source": [
    "import module\r\n",
    "\r\n",
    "print(module.printName('Joel'))"
   ],
   "outputs": [],
   "metadata": {}
  },
  {
   "cell_type": "markdown",
   "source": [
    "# Exercises"
   ],
   "metadata": {}
  },
  {
   "cell_type": "markdown",
   "source": [
    "### 1) Build a Shopping Cart <br>\n",
    "<p><b>You can use either lists or dictionaries. The program should have the following capabilities:</b><br><br>\n",
    "1) Takes in input <br>\n",
    "2) Stores user input into a dictionary or list <br>\n",
    "3) The User can add or delete items <br>\n",
    "4) The User can see current shopping list <br>\n",
    "5) The program Loops until user 'quits' <br>\n",
    "6) Upon quiting the program, print out all items in the user's list <br>\n",
    "</p>"
   ],
   "metadata": {}
  },
  {
   "cell_type": "code",
   "execution_count": 5,
   "source": [
    "from IPython.display import clear_output\r\n",
    "\r\n",
    "# Ask the user 5 bits of input: Do you want to : Show/Add/Delete/clear or Quit?\r\n",
    "shopping_list = []\r\n",
    "while True:\r\n",
    "    user_input = input(\"Do you want to: Show/Add/Del/clear or Quit?\").lower()\r\n",
    "    if user_input == \"show\":\r\n",
    "        print(shopping_list)\r\n",
    "    elif user_input == \"add\":\r\n",
    "        user_add = input(\"What product would you like to add to your shopping cart?\")\r\n",
    "        print(f\"Adding {user_add.title()} to shopping cart.\")\r\n",
    "        shopping_list.append(user_add)\r\n",
    "    elif user_input == \"del\":\r\n",
    "        user_del = input(\"What product would you like to delete?\")\r\n",
    "        print(f\"Removing {user_del.title()} from shopping cart.\")\r\n",
    "        shopping_list.remove(user_del)\r\n",
    "    elif user_input == \"clear\":\r\n",
    "        user_clear = input(\"Are you sure you want to clear your shopping cart? (Yes/No)\")\r\n",
    "        if user_clear == \"yes\":\r\n",
    "            print(f\"Your shopping cart of {shopping_list} has been cleared!\")\r\n",
    "            shopping_list.clear()\r\n",
    "    else:\r\n",
    "        user_input == \"quit\"\r\n",
    "        break"
   ],
   "outputs": [
    {
     "output_type": "stream",
     "name": "stdout",
     "text": [
      "[]\n",
      "Adding Eggs to shopping cart.\n",
      "['eggs']\n",
      "Removing Eggs from shopping cart.\n",
      "[]\n"
     ]
    }
   ],
   "metadata": {}
  },
  {
   "cell_type": "markdown",
   "source": [
    "### 2) Create a Module in VS Code and Import It into jupyter notebook <br>\n",
    "<p><b>Module should have the following capabilities:</b><br><br>\n",
    "1) Has a function to calculate the square footage of a house <br>\n",
    "    <b>Reminder of Formula: Length X Width == Area<br>\n",
    "        <hr>\n",
    "2) Has a function to calculate the circumference of a circle <br><br>\n",
    "<b>Program in Jupyter Notebook should take in user input and use imported functions to calculate a circle's circumference or a houses square footage</b>\n",
    "</p>"
   ],
   "metadata": {}
  },
  {
   "cell_type": "code",
   "execution_count": null,
   "source": [],
   "outputs": [],
   "metadata": {}
  }
 ],
 "metadata": {
  "kernelspec": {
   "name": "python3",
   "display_name": "Python 3.9.6 64-bit"
  },
  "language_info": {
   "codemirror_mode": {
    "name": "ipython",
    "version": 3
   },
   "file_extension": ".py",
   "mimetype": "text/x-python",
   "name": "python",
   "nbconvert_exporter": "python",
   "pygments_lexer": "ipython3",
   "version": "3.9.6"
  },
  "interpreter": {
   "hash": "57990f1ad2ea89c67ddae7f31d40c478205c5912da0fccfb7c5cfbb2b8bf17ad"
  }
 },
 "nbformat": 4,
 "nbformat_minor": 2
}